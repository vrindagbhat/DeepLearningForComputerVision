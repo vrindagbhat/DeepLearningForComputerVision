{
  "metadata": {
    "kernelspec": {
      "language": "python",
      "display_name": "Python 3",
      "name": "python3"
    },
    "language_info": {
      "name": "python",
      "version": "3.7.10",
      "mimetype": "text/x-python",
      "codemirror_mode": {
        "name": "ipython",
        "version": 3
      },
      "pygments_lexer": "ipython3",
      "nbconvert_exporter": "python",
      "file_extension": ".py"
    },
    "kaggle": {
      "accelerator": "gpu",
      "dataSources": [
        {
          "sourceId": 450106,
          "sourceType": "datasetVersion",
          "datasetId": 205087
        },
        {
          "sourceId": 7115692,
          "sourceType": "datasetVersion",
          "datasetId": 4103633
        }
      ],
      "dockerImageVersionId": 30121,
      "isInternetEnabled": true,
      "language": "python",
      "sourceType": "notebook",
      "isGpuEnabled": true
    },
    "colab": {
      "provenance": []
    }
  },
  "nbformat_minor": 0,
  "nbformat": 4,
  "cells": [
    {
      "cell_type": "markdown",
      "source": [
        "# Deep Learning for Computer Vision\n",
        "\n",
        "## DisasterGuard: A Deep Learning Framework For Robust Disaster Image Classification"
      ],
      "metadata": {
        "id": "6B4U0IJ9zJqu"
      }
    },
    {
      "cell_type": "markdown",
      "source": [
        "# Team: 27\n",
        "\n",
        "# Members: Sakshi Satpathy(ss6981), Vrinda Bhat(vgb2113), Ketki Morabkar(km3934)"
      ],
      "metadata": {
        "id": "D4dCAeVbzi54"
      }
    },
    {
      "cell_type": "markdown",
      "source": [
        "Dataset Link: https://drive.google.com/drive/folders/1hzgSPLqNt8PG1VHz8la7qZW3OmMISgNe?usp=sharing"
      ],
      "metadata": {
        "id": "phY3qlMm1XDu"
      }
    },
    {
      "cell_type": "markdown",
      "source": [
        "# Model 1: ResNet 50"
      ],
      "metadata": {
        "id": "jBW4uf3_18kR"
      }
    },
    {
      "cell_type": "code",
      "source": [
        "# Import necessary libraries\n",
        "import numpy as np\n",
        "import pandas as pd\n",
        "from tensorflow.keras.preprocessing.image import ImageDataGenerator\n",
        "\n",
        "# Import TensorFlow and relevant layers\n",
        "import tensorflow as tf\n",
        "from tensorflow.keras.layers import Input\n",
        "from tensorflow.keras.layers import Flatten, Dense, Dropout, Conv2D, MaxPooling2D\n",
        "\n",
        "# Import operating system module\n",
        "import os\n",
        "\n",
        "# Define the path to the dataset folder\n",
        "folder_path = '../input/aider-dataset/AIDER/'\n",
        "for dirname, _, filenames in os.walk(folder_path):\n",
        "    print(dirname)"
      ],
      "metadata": {
        "_uuid": "8f2839f25d086af736a60e9eeb907d3b93b6e0e5",
        "_cell_guid": "b1076dfc-b9ad-4769-8c92-a6c4dae69d19",
        "execution": {
          "iopub.status.busy": "2023-12-03T22:17:22.198350Z",
          "iopub.execute_input": "2023-12-03T22:17:22.198739Z",
          "iopub.status.idle": "2023-12-03T22:17:28.852374Z",
          "shell.execute_reply.started": "2023-12-03T22:17:22.198662Z",
          "shell.execute_reply": "2023-12-03T22:17:28.851379Z"
        },
        "trusted": true,
        "id": "nXA6DXgwAEMP"
      },
      "execution_count": null,
      "outputs": []
    },
    {
      "cell_type": "code",
      "source": [
        "from keras.preprocessing import image # Import image preprocessing module from Keras\n",
        "import matplotlib.pyplot as plt # Import pyplot from Matplotlib for plotting\n",
        "import matplotlib.image as mpimg # Import image module from Matplotlib for reading and displaying images\n",
        "%matplotlib inline # Enable inline plotting in Jupyter Notebooks"
      ],
      "metadata": {
        "execution": {
          "iopub.status.busy": "2023-12-03T22:17:28.853742Z",
          "iopub.execute_input": "2023-12-03T22:17:28.854033Z",
          "iopub.status.idle": "2023-12-03T22:17:28.895728Z",
          "shell.execute_reply.started": "2023-12-03T22:17:28.853998Z",
          "shell.execute_reply": "2023-12-03T22:17:28.894959Z"
        },
        "trusted": true,
        "id": "qIEd10AIAEMS"
      },
      "execution_count": null,
      "outputs": []
    },
    {
      "cell_type": "code",
      "source": [
        "# Create an ImageDataGenerator for training data augmentation\n",
        "train_datagen = ImageDataGenerator(\n",
        "                fill_mode = 'nearest', # Strategy for filling in newly created pixels during data augmentation\n",
        "                validation_split=0.2   # Fraction of the data to reserve for validation\n",
        ")"
      ],
      "metadata": {
        "execution": {
          "iopub.status.busy": "2023-12-03T22:17:28.897464Z",
          "iopub.execute_input": "2023-12-03T22:17:28.897765Z",
          "iopub.status.idle": "2023-12-03T22:17:28.901697Z",
          "shell.execute_reply.started": "2023-12-03T22:17:28.897736Z",
          "shell.execute_reply": "2023-12-03T22:17:28.900759Z"
        },
        "trusted": true,
        "id": "Bcj1ku7NAEMT"
      },
      "execution_count": null,
      "outputs": []
    },
    {
      "cell_type": "code",
      "source": [
        "# Generate a training data generator using ImageDataGenerator\n",
        "train_generator=train_datagen.flow_from_directory(\n",
        "    folder_path,\n",
        "    target_size=(108,108),\n",
        "    color_mode='rgb',\n",
        "    class_mode='categorical',\n",
        "    subset='training',\n",
        ")\n",
        "\n",
        "# Generate a validation data generator using ImageDataGenerator\n",
        "validation_generator=train_datagen.flow_from_directory(\n",
        "    folder_path,\n",
        "    target_size=(108,108),\n",
        "    color_mode='rgb',\n",
        "    class_mode='categorical',\n",
        "    subset='validation',\n",
        ")"
      ],
      "metadata": {
        "execution": {
          "iopub.status.busy": "2023-12-03T22:17:28.903137Z",
          "iopub.execute_input": "2023-12-03T22:17:28.903426Z",
          "iopub.status.idle": "2023-12-03T22:17:29.438392Z",
          "shell.execute_reply.started": "2023-12-03T22:17:28.903388Z",
          "shell.execute_reply": "2023-12-03T22:17:29.437583Z"
        },
        "trusted": true,
        "id": "O9C0cerFAEMT",
        "outputId": "6db697d7-ab94-4e54-f640-d0398e12c81e"
      },
      "execution_count": null,
      "outputs": [
        {
          "name": "stdout",
          "text": "Found 5147 images belonging to 5 classes.\nFound 1286 images belonging to 5 classes.\n",
          "output_type": "stream"
        }
      ]
    },
    {
      "cell_type": "code",
      "source": [
        "# Import ResNet50 model from Keras applications\n",
        "from keras.applications import ResNet50\n",
        "\n",
        "# Create a sequential model\n",
        "model = tf.keras.models.Sequential([\n",
        "    ResNet50(input_shape=(108,108,3), include_top=False),\n",
        "])\n",
        "\n",
        "# Freeze the layers of the pre-trained ResNet50 model\n",
        "for layer in model.layers:\n",
        "  layer.trainable = False\n",
        "\n",
        "# Add additional layers to the model\n",
        "model.add(Conv2D(64, (3,3), activation='relu')) # Convolutional layer with ReLU activation\n",
        "model.add(MaxPooling2D(2,2))                    # Max pooling layer\n",
        "model.add(Flatten())                            # Flatten layer to convert 2D to 1D\n",
        "model.add(Dense(64, activation='relu'))         # Dense layer with ReLU activation\n",
        "model.add(Dropout(0.4))                         # Dropout layer for regularization\n",
        "model.add(Dense(5, activation='softmax'))       # Output layer with softmax activation for multi-class classification\n",
        "\n",
        "# Display a summary of the model architecture\n",
        "model.summary()"
      ],
      "metadata": {
        "execution": {
          "iopub.status.busy": "2023-12-03T22:20:07.468609Z",
          "iopub.execute_input": "2023-12-03T22:20:07.469004Z",
          "iopub.status.idle": "2023-12-03T22:20:09.357940Z",
          "shell.execute_reply.started": "2023-12-03T22:20:07.468963Z",
          "shell.execute_reply": "2023-12-03T22:20:09.357053Z"
        },
        "trusted": true,
        "id": "Ei9Q6wvVAEMU",
        "outputId": "14a1007a-1715-405a-e986-07aefd00e388"
      },
      "execution_count": null,
      "outputs": [
        {
          "name": "stdout",
          "text": "Model: \"sequential_3\"\n_________________________________________________________________\nLayer (type)                 Output Shape              Param #   \n=================================================================\nresnet50 (Functional)        (None, 4, 4, 2048)        23587712  \n_________________________________________________________________\nconv2d_3 (Conv2D)            (None, 2, 2, 64)          1179712   \n_________________________________________________________________\nmax_pooling2d_2 (MaxPooling2 (None, 1, 1, 64)          0         \n_________________________________________________________________\nflatten_2 (Flatten)          (None, 64)                0         \n_________________________________________________________________\ndense_4 (Dense)              (None, 64)                4160      \n_________________________________________________________________\ndropout_2 (Dropout)          (None, 64)                0         \n_________________________________________________________________\ndense_5 (Dense)              (None, 5)                 325       \n=================================================================\nTotal params: 24,771,909\nTrainable params: 1,184,197\nNon-trainable params: 23,587,712\n_________________________________________________________________\n",
          "output_type": "stream"
        }
      ]
    },
    {
      "cell_type": "code",
      "source": [
        "# Compile the model with specified optimizer, loss function, and evaluation metric\n",
        "model.compile(optimizer='Adam',\n",
        "              loss='categorical_crossentropy',\n",
        "              metrics=['accuracy'])\n"
      ],
      "metadata": {
        "execution": {
          "iopub.status.busy": "2023-12-03T22:20:11.547946Z",
          "iopub.execute_input": "2023-12-03T22:20:11.548350Z",
          "iopub.status.idle": "2023-12-03T22:20:11.564026Z",
          "shell.execute_reply.started": "2023-12-03T22:20:11.548314Z",
          "shell.execute_reply": "2023-12-03T22:20:11.563163Z"
        },
        "trusted": true,
        "id": "YDX2Bxm5AEMU"
      },
      "execution_count": null,
      "outputs": []
    },
    {
      "cell_type": "code",
      "source": [
        "# Train the model using the provided data generators\n",
        "history = model.fit(train_generator,\n",
        "                    validation_data=validation_generator,\n",
        "                    epochs=25,\n",
        "                    verbose=1,\n",
        "                    )"
      ],
      "metadata": {
        "execution": {
          "iopub.status.busy": "2023-12-03T22:20:12.359032Z",
          "iopub.execute_input": "2023-12-03T22:20:12.359413Z",
          "iopub.status.idle": "2023-12-03T22:33:00.325165Z",
          "shell.execute_reply.started": "2023-12-03T22:20:12.359381Z",
          "shell.execute_reply": "2023-12-03T22:33:00.324389Z"
        },
        "trusted": true,
        "id": "ndNWEPrZAEMU",
        "outputId": "8cbbe82e-11b5-4a6d-8252-4bfae1ddc774"
      },
      "execution_count": null,
      "outputs": [
        {
          "name": "stdout",
          "text": "Epoch 1/25\n161/161 [==============================] - 47s 272ms/step - loss: 1.4624 - accuracy: 0.6720 - val_loss: 0.3163 - val_accuracy: 0.8880\nEpoch 2/25\n161/161 [==============================] - 30s 188ms/step - loss: 0.3823 - accuracy: 0.8745 - val_loss: 0.4589 - val_accuracy: 0.8631\nEpoch 3/25\n161/161 [==============================] - 30s 186ms/step - loss: 0.2103 - accuracy: 0.9318 - val_loss: 0.4049 - val_accuracy: 0.8756\nEpoch 4/25\n161/161 [==============================] - 30s 187ms/step - loss: 0.1804 - accuracy: 0.9459 - val_loss: 0.4083 - val_accuracy: 0.8888\nEpoch 5/25\n161/161 [==============================] - 30s 188ms/step - loss: 0.1033 - accuracy: 0.9636 - val_loss: 0.3919 - val_accuracy: 0.8966\nEpoch 6/25\n161/161 [==============================] - 30s 186ms/step - loss: 0.0989 - accuracy: 0.9725 - val_loss: 0.3778 - val_accuracy: 0.9005\nEpoch 7/25\n161/161 [==============================] - 30s 188ms/step - loss: 0.0748 - accuracy: 0.9799 - val_loss: 0.4497 - val_accuracy: 0.8888\nEpoch 8/25\n161/161 [==============================] - 30s 187ms/step - loss: 0.0543 - accuracy: 0.9871 - val_loss: 0.5761 - val_accuracy: 0.8997\nEpoch 9/25\n161/161 [==============================] - 30s 185ms/step - loss: 0.0352 - accuracy: 0.9876 - val_loss: 0.6457 - val_accuracy: 0.8958\nEpoch 10/25\n161/161 [==============================] - 30s 188ms/step - loss: 0.0225 - accuracy: 0.9928 - val_loss: 0.5724 - val_accuracy: 0.8989\nEpoch 11/25\n161/161 [==============================] - 30s 185ms/step - loss: 0.0231 - accuracy: 0.9939 - val_loss: 0.6394 - val_accuracy: 0.9059\nEpoch 12/25\n161/161 [==============================] - 30s 188ms/step - loss: 0.0628 - accuracy: 0.9845 - val_loss: 0.6488 - val_accuracy: 0.8795\nEpoch 13/25\n161/161 [==============================] - 31s 191ms/step - loss: 0.0408 - accuracy: 0.9881 - val_loss: 0.7135 - val_accuracy: 0.8872\nEpoch 14/25\n161/161 [==============================] - 30s 190ms/step - loss: 0.0406 - accuracy: 0.9877 - val_loss: 0.4596 - val_accuracy: 0.9098\nEpoch 15/25\n161/161 [==============================] - 30s 185ms/step - loss: 0.0266 - accuracy: 0.9952 - val_loss: 0.5636 - val_accuracy: 0.8989\nEpoch 16/25\n161/161 [==============================] - 30s 188ms/step - loss: 0.0249 - accuracy: 0.9934 - val_loss: 0.7008 - val_accuracy: 0.8950\nEpoch 17/25\n161/161 [==============================] - 30s 185ms/step - loss: 0.0162 - accuracy: 0.9964 - val_loss: 0.6551 - val_accuracy: 0.9005\nEpoch 18/25\n161/161 [==============================] - 30s 187ms/step - loss: 0.0052 - accuracy: 0.9983 - val_loss: 0.6999 - val_accuracy: 0.8989\nEpoch 19/25\n161/161 [==============================] - 30s 186ms/step - loss: 0.0081 - accuracy: 0.9972 - val_loss: 0.7151 - val_accuracy: 0.9059\nEpoch 20/25\n161/161 [==============================] - 30s 186ms/step - loss: 0.0093 - accuracy: 0.9982 - val_loss: 0.6840 - val_accuracy: 0.8981\nEpoch 21/25\n161/161 [==============================] - 30s 185ms/step - loss: 0.0140 - accuracy: 0.9953 - val_loss: 1.0106 - val_accuracy: 0.8771\nEpoch 22/25\n161/161 [==============================] - 30s 186ms/step - loss: 0.0336 - accuracy: 0.9925 - val_loss: 0.9629 - val_accuracy: 0.8771\nEpoch 23/25\n161/161 [==============================] - 30s 185ms/step - loss: 0.0309 - accuracy: 0.9931 - val_loss: 0.8359 - val_accuracy: 0.9012\nEpoch 24/25\n161/161 [==============================] - 30s 188ms/step - loss: 0.0245 - accuracy: 0.9947 - val_loss: 0.7102 - val_accuracy: 0.8981\nEpoch 25/25\n161/161 [==============================] - 30s 185ms/step - loss: 0.0218 - accuracy: 0.9942 - val_loss: 0.6791 - val_accuracy: 0.8942\n",
          "output_type": "stream"
        }
      ]
    },
    {
      "cell_type": "code",
      "source": [
        "# Plot training and validation accuracy over epochs\n",
        "\n",
        "import matplotlib.pyplot as plt\n",
        "plt.plot(history.history['accuracy'])\n",
        "plt.plot(history.history['val_accuracy'])\n",
        "plt.title('Model accuracy')\n",
        "plt.ylabel('Accuracy')\n",
        "plt.xlabel('Epoch')\n",
        "plt.legend(['Train', 'Validation'], loc='lower right')\n",
        "plt.show()"
      ],
      "metadata": {
        "execution": {
          "iopub.status.busy": "2023-12-03T22:33:07.685877Z",
          "iopub.execute_input": "2023-12-03T22:33:07.686280Z",
          "iopub.status.idle": "2023-12-03T22:33:07.865620Z",
          "shell.execute_reply.started": "2023-12-03T22:33:07.686247Z",
          "shell.execute_reply": "2023-12-03T22:33:07.864753Z"
        },
        "trusted": true,
        "id": "8QPYrQeEAEMV",
        "outputId": "c97adf5a-61dc-4a2c-dfd4-effa51e5a7cc"
      },
      "execution_count": null,
      "outputs": [
        {
          "output_type": "display_data",
          "data": {
            "text/plain": "<Figure size 432x288 with 1 Axes>",
            "image/png": "[encoded data removed]"
          },
          "metadata": {
            "needs_background": "light"
          }
        }
      ]
    },
    {
      "cell_type": "code",
      "source": [
        "# Plot training and validation loss over epochs\n",
        "plt.plot(history.history['loss'])\n",
        "plt.plot(history.history['val_loss'])\n",
        "plt.title('Model Loss')\n",
        "plt.ylabel('loss')\n",
        "plt.xlabel('Epoch')\n",
        "plt.legend(['Train', 'Validation'], loc='lower right')\n",
        "plt.show()"
      ],
      "metadata": {
        "execution": {
          "iopub.status.busy": "2023-12-03T22:33:12.987781Z",
          "iopub.execute_input": "2023-12-03T22:33:12.988146Z",
          "iopub.status.idle": "2023-12-03T22:33:13.146821Z",
          "shell.execute_reply.started": "2023-12-03T22:33:12.988112Z",
          "shell.execute_reply": "2023-12-03T22:33:13.145926Z"
        },
        "trusted": true,
        "id": "M7IWcTRzAEMV",
        "outputId": "747c763e-fd14-4af0-beb5-371ad8975956"
      },
      "execution_count": null,
      "outputs": [
        {
          "output_type": "display_data",
          "data": {
            "text/plain": "<Figure size 432x288 with 1 Axes>",
            "image/png": "[encoded data removed]"
          },
          "metadata": {
            "needs_background": "light"
          }
        }
      ]
    }
  ]
}